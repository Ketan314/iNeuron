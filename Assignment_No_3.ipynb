{
  "nbformat": 4,
  "nbformat_minor": 0,
  "metadata": {
    "colab": {
      "name": "Assignment No.3.ipynb",
      "provenance": []
    },
    "kernelspec": {
      "name": "python3",
      "display_name": "Python 3"
    }
  },
  "cells": [
    {
      "cell_type": "markdown",
      "metadata": {
        "id": "w_F_Hv2-5upQ"
      },
      "source": [
        "*Write a Python Program to implement your own myreduce() function which works exactly\r\n",
        "like Python's built-in function reduce()*"
      ]
    },
    {
      "cell_type": "code",
      "metadata": {
        "id": "kV5ijDZC5keu"
      },
      "source": [
        "from functools import  reduce"
      ],
      "execution_count": 1,
      "outputs": []
    },
    {
      "cell_type": "code",
      "metadata": {
        "colab": {
          "base_uri": "https://localhost:8080/"
        },
        "id": "7AGs_SaS6UYP",
        "outputId": "a5476f51-fdab-4885-f744-8d3a12bbbe0c"
      },
      "source": [
        "def myreduce(add,list1):\r\n",
        "  return a\r\n",
        "def add (a,b):\r\n",
        "  return a+b\r\n",
        "list1=[1,2,3,4]\r\n",
        "a = list1[0]\r\n",
        "for i in range(1, len(list1)):\r\n",
        "  b = list1[i]\r\n",
        "  a = add(a,b)\r\n",
        "print(myreduce(add,list1))"
      ],
      "execution_count": 3,
      "outputs": [
        {
          "output_type": "stream",
          "text": [
            "10\n"
          ],
          "name": "stdout"
        }
      ]
    },
    {
      "cell_type": "markdown",
      "metadata": {
        "id": "W3RLD1eT7tD0"
      },
      "source": [
        "*Write a Python program to implement your own myfilter() function which works exactly\r\n",
        "like Python's built-in function filter()*"
      ]
    },
    {
      "cell_type": "code",
      "metadata": {
        "colab": {
          "base_uri": "https://localhost:8080/"
        },
        "id": "HHmNhyd97fIm",
        "outputId": "4d58765f-a9c9-48c8-c97c-593d9af54b18"
      },
      "source": [
        "def myfilter(is_even,list2):\r\n",
        "  return is_even(a)\r\n",
        "list2 = [1,2,3,4,5,6,7,8,9,10]\r\n",
        "list3 = []\r\n",
        "def is_even(a):\r\n",
        "  for i in list2:\r\n",
        "    if i%2==0:\r\n",
        "      list3.append(i)\r\n",
        "  print(list3)\r\n",
        "print(myfilter(is_even,list2))"
      ],
      "execution_count": 5,
      "outputs": [
        {
          "output_type": "stream",
          "text": [
            "[2, 4, 6, 8, 10]\n",
            "None\n"
          ],
          "name": "stdout"
        }
      ]
    },
    {
      "cell_type": "markdown",
      "metadata": {
        "id": "skbbzgSp8s4Q"
      },
      "source": [
        "*Implement List comprehensions to produce the following lists.\r\n",
        "Write List comprehensions to produce the following Lists*\r\n",
        "['x', 'xx', 'xxx', 'xxxx', 'y', 'yy', 'yyy', 'yyyy', 'z', 'zz', 'zzz', 'zzzz']"
      ]
    },
    {
      "cell_type": "code",
      "metadata": {
        "colab": {
          "base_uri": "https://localhost:8080/"
        },
        "id": "fIAyt4iC8ndd",
        "outputId": "276cc036-6258-450e-e254-4bf72f21c4d5"
      },
      "source": [
        "l = [n*i for i in ['x','y','z'] for n in range(1,5)]\r\n",
        "l"
      ],
      "execution_count": 9,
      "outputs": [
        {
          "output_type": "execute_result",
          "data": {
            "text/plain": [
              "['x', 'xx', 'xxx', 'xxxx', 'y', 'yy', 'yyy', 'yyyy', 'z', 'zz', 'zzz', 'zzzz']"
            ]
          },
          "metadata": {
            "tags": []
          },
          "execution_count": 9
        }
      ]
    },
    {
      "cell_type": "markdown",
      "metadata": {
        "id": "x8eg9Fsv9hwb"
      },
      "source": [
        "*Print* ['x', 'y', 'z', 'xx', 'yy', 'zz', 'xxx', 'yyy', 'zzz', 'xxxx', 'yyyy', 'zzzz']"
      ]
    },
    {
      "cell_type": "code",
      "metadata": {
        "colab": {
          "base_uri": "https://localhost:8080/"
        },
        "id": "qILjLGBo9MC9",
        "outputId": "289bff53-bf41-4614-d21b-477dcee8d8e4"
      },
      "source": [
        "l = [i*n for i in range(1,5) for n in ['x','y','z']]\r\n",
        "l"
      ],
      "execution_count": 13,
      "outputs": [
        {
          "output_type": "execute_result",
          "data": {
            "text/plain": [
              "['x', 'y', 'z', 'xx', 'yy', 'zz', 'xxx', 'yyy', 'zzz', 'xxxx', 'yyyy', 'zzzz']"
            ]
          },
          "metadata": {
            "tags": []
          },
          "execution_count": 13
        }
      ]
    },
    {
      "cell_type": "markdown",
      "metadata": {
        "id": "E26QN9A--Ltb"
      },
      "source": [
        "*Print* : [[2], [3], [4], [3], [4], [5], [4], [5], [6]] "
      ]
    },
    {
      "cell_type": "code",
      "metadata": {
        "colab": {
          "base_uri": "https://localhost:8080/"
        },
        "id": "IVGvnK5L98E_",
        "outputId": "c14f55cc-c318-4959-b645-66cd821c3b25"
      },
      "source": [
        "l = [[x+y] for x in range(2,5) for y in range(3)]\r\n",
        "l"
      ],
      "execution_count": 18,
      "outputs": [
        {
          "output_type": "execute_result",
          "data": {
            "text/plain": [
              "[[2], [3], [4], [3], [4], [5], [4], [5], [6]]"
            ]
          },
          "metadata": {
            "tags": []
          },
          "execution_count": 18
        }
      ]
    },
    {
      "cell_type": "markdown",
      "metadata": {
        "id": "VaQ2mBI--mrC"
      },
      "source": [
        "*Print* : [[2, 3, 4, 5], [3, 4, 5, 6],[4, 5, 6, 7], [5, 6, 7, 8]]"
      ]
    },
    {
      "cell_type": "code",
      "metadata": {
        "colab": {
          "base_uri": "https://localhost:8080/"
        },
        "id": "aFZahO1g-o4x",
        "outputId": "10950cd8-df64-4f96-e78f-e4748f4e122d"
      },
      "source": [
        "l1 = [[2],[3],[4],[5],[6],[7],[8]]\r\n",
        "l2 = [[l1[x+y][0]for x in range(4)]for y in range(4)]\r\n",
        "l2"
      ],
      "execution_count": 19,
      "outputs": [
        {
          "output_type": "execute_result",
          "data": {
            "text/plain": [
              "[[2, 3, 4, 5], [3, 4, 5, 6], [4, 5, 6, 7], [5, 6, 7, 8]]"
            ]
          },
          "metadata": {
            "tags": []
          },
          "execution_count": 19
        }
      ]
    },
    {
      "cell_type": "markdown",
      "metadata": {
        "id": "h5jNjB_F_kRy"
      },
      "source": [
        "*Print* : [(1, 1), (2, 1), (3, 1), (1, 2), (2, 2), (3, 2), (1, 3), (2, 3), (3, 3)]"
      ]
    },
    {
      "cell_type": "code",
      "metadata": {
        "colab": {
          "base_uri": "https://localhost:8080/"
        },
        "id": "SRAaIRdQ_fqp",
        "outputId": "76e4c965-f6ba-40a9-91b1-acd3e76c2310"
      },
      "source": [
        "l1 = (1,2,3)\r\n",
        "l2 = (1,2,3)\r\n",
        "l3 = [(x,y) for y in l1 for x in l2]\r\n",
        "l3"
      ],
      "execution_count": 22,
      "outputs": [
        {
          "output_type": "execute_result",
          "data": {
            "text/plain": [
              "[(1, 1), (2, 1), (3, 1), (1, 2), (2, 2), (3, 2), (1, 3), (2, 3), (3, 3)]"
            ]
          },
          "metadata": {
            "tags": []
          },
          "execution_count": 22
        }
      ]
    }
  ]
}